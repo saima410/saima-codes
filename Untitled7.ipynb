{
  "nbformat": 4,
  "nbformat_minor": 0,
  "metadata": {
    "colab": {
      "name": "Untitled7.ipynb",
      "provenance": [],
      "authorship_tag": "ABX9TyMK+I8Wjv7JJZ6Pnyt0e/ml",
      "include_colab_link": true
    },
    "kernelspec": {
      "name": "python3",
      "display_name": "Python 3"
    }
  },
  "cells": [
    {
      "cell_type": "markdown",
      "metadata": {
        "id": "view-in-github",
        "colab_type": "text"
      },
      "source": [
        "<a href=\"https://colab.research.google.com/github/saima410/saima-codes/blob/main/Untitled7.ipynb\" target=\"_parent\"><img src=\"https://colab.research.google.com/assets/colab-badge.svg\" alt=\"Open In Colab\"/></a>"
      ]
    },
    {
      "cell_type": "code",
      "metadata": {
        "colab": {
          "base_uri": "https://localhost:8080/"
        },
        "id": "SdJzPtD0xPem",
        "outputId": "21cd96a7-10c5-4dda-879b-ea5b70d64832"
      },
      "source": [
        "3 * 4"
      ],
      "execution_count": 1,
      "outputs": [
        {
          "output_type": "execute_result",
          "data": {
            "text/plain": [
              "12"
            ]
          },
          "metadata": {
            "tags": []
          },
          "execution_count": 1
        }
      ]
    },
    {
      "cell_type": "code",
      "metadata": {
        "colab": {
          "base_uri": "https://localhost:8080/",
          "height": 129
        },
        "id": "orTrCoQwxp47",
        "outputId": "f8b50ef9-87f8-48aa-cdec-16221652ac2a"
      },
      "source": [
        "3 * * 4"
      ],
      "execution_count": 2,
      "outputs": [
        {
          "output_type": "error",
          "ename": "SyntaxError",
          "evalue": "ignored",
          "traceback": [
            "\u001b[0;36m  File \u001b[0;32m\"<ipython-input-2-012ea60b41dd>\"\u001b[0;36m, line \u001b[0;32m1\u001b[0m\n\u001b[0;31m    3 * * 4\u001b[0m\n\u001b[0m        ^\u001b[0m\n\u001b[0;31mSyntaxError\u001b[0m\u001b[0;31m:\u001b[0m invalid syntax\n"
          ]
        }
      ]
    },
    {
      "cell_type": "code",
      "metadata": {
        "colab": {
          "base_uri": "https://localhost:8080/"
        },
        "id": "4WhaT-pAxt6f",
        "outputId": "0cc910ac-b57d-4998-9233-7ecde02ee681"
      },
      "source": [
        "3 ** 4"
      ],
      "execution_count": 3,
      "outputs": [
        {
          "output_type": "execute_result",
          "data": {
            "text/plain": [
              "81"
            ]
          },
          "metadata": {
            "tags": []
          },
          "execution_count": 3
        }
      ]
    },
    {
      "cell_type": "code",
      "metadata": {
        "colab": {
          "base_uri": "https://localhost:8080/"
        },
        "id": "TRbLNng3xv09",
        "outputId": "f21e9267-079d-4bef-e3aa-ea7ffd0f3741"
      },
      "source": [
        "1 + 2 * (3 * 4 * 5 / 6) ** 3 + 7 + 8 - 9 + 10"
      ],
      "execution_count": 4,
      "outputs": [
        {
          "output_type": "execute_result",
          "data": {
            "text/plain": [
              "2017.0"
            ]
          },
          "metadata": {
            "tags": []
          },
          "execution_count": 4
        }
      ]
    },
    {
      "cell_type": "code",
      "metadata": {
        "colab": {
          "base_uri": "https://localhost:8080/"
        },
        "id": "6BzM5UJ8x178",
        "outputId": "bd66c730-14c3-462c-bced-cae8f542a4a4"
      },
      "source": [
        "a = 10\r\n",
        "b = 20\r\n",
        "a + b"
      ],
      "execution_count": 5,
      "outputs": [
        {
          "output_type": "execute_result",
          "data": {
            "text/plain": [
              "30"
            ]
          },
          "metadata": {
            "tags": []
          },
          "execution_count": 5
        }
      ]
    },
    {
      "cell_type": "code",
      "metadata": {
        "colab": {
          "base_uri": "https://localhost:8080/"
        },
        "id": "7-Q0W_uIx4yg",
        "outputId": "d2f5a490-957c-4622-f107-8ed948c74d3b"
      },
      "source": [
        "quarter = 1/4\r\n",
        "half = 2 * quarter\r\n",
        "half"
      ],
      "execution_count": 6,
      "outputs": [
        {
          "output_type": "execute_result",
          "data": {
            "text/plain": [
              "0.5"
            ]
          },
          "metadata": {
            "tags": []
          },
          "execution_count": 6
        }
      ]
    },
    {
      "cell_type": "code",
      "metadata": {
        "colab": {
          "base_uri": "https://localhost:8080/"
        },
        "id": "Zz0Y9V-Wx7xn",
        "outputId": "e8b61215-447f-43c9-9153-8c0159fe8dff"
      },
      "source": [
        "quarter = 4\r\n",
        "half"
      ],
      "execution_count": 7,
      "outputs": [
        {
          "output_type": "execute_result",
          "data": {
            "text/plain": [
              "0.5"
            ]
          },
          "metadata": {
            "tags": []
          },
          "execution_count": 7
        }
      ]
    },
    {
      "cell_type": "code",
      "metadata": {
        "colab": {
          "base_uri": "https://localhost:8080/"
        },
        "id": "TS1JoZ04x-Iy",
        "outputId": "4aa88690-c394-474f-c2b5-90ae1214d134"
      },
      "source": [
        "purchase_price = 5\r\n",
        "state_tax_rate = 0.075\r\n",
        "county_tax_rate = 0.02\r\n",
        "city_tax_rate = 0\r\n",
        "sales_tax_rate = state_tax_rate + county_tax_rate + city_tax_rate\r\n",
        "sales_tax = purchase_price * sales_tax_rate\r\n",
        "sales_tax"
      ],
      "execution_count": 8,
      "outputs": [
        {
          "output_type": "execute_result",
          "data": {
            "text/plain": [
              "0.475"
            ]
          },
          "metadata": {
            "tags": []
          },
          "execution_count": 8
        }
      ]
    },
    {
      "cell_type": "code",
      "metadata": {
        "colab": {
          "base_uri": "https://localhost:8080/"
        },
        "id": "MGADcgmAx_Vv",
        "outputId": "71cfe828-8a84-4508-9844-fd10f20958f1"
      },
      "source": [
        "initial = 2766000\r\n",
        "changed = 2814000\r\n",
        "(changed - initial) / initial"
      ],
      "execution_count": 9,
      "outputs": [
        {
          "output_type": "execute_result",
          "data": {
            "text/plain": [
              "0.01735357917570499"
            ]
          },
          "metadata": {
            "tags": []
          },
          "execution_count": 9
        }
      ]
    },
    {
      "cell_type": "code",
      "metadata": {
        "colab": {
          "base_uri": "https://localhost:8080/"
        },
        "id": "zNMsoViJyCkP",
        "outputId": "228436cb-02d3-47ba-bb80-f502a423741d"
      },
      "source": [
        "(changed/initial) - 1"
      ],
      "execution_count": 10,
      "outputs": [
        {
          "output_type": "execute_result",
          "data": {
            "text/plain": [
              "0.017353579175704903"
            ]
          },
          "metadata": {
            "tags": []
          },
          "execution_count": 10
        }
      ]
    },
    {
      "cell_type": "code",
      "metadata": {
        "colab": {
          "base_uri": "https://localhost:8080/"
        },
        "id": "nZ9fUY0TyFdm",
        "outputId": "d5de5d58-8301-4afd-fb17-06da66ec6f28"
      },
      "source": [
        "initial = 2766\r\n",
        "changed = 2814\r\n",
        "(changed/initial) - 1"
      ],
      "execution_count": 11,
      "outputs": [
        {
          "output_type": "execute_result",
          "data": {
            "text/plain": [
              "0.017353579175704903"
            ]
          },
          "metadata": {
            "tags": []
          },
          "execution_count": 11
        }
      ]
    },
    {
      "cell_type": "code",
      "metadata": {
        "colab": {
          "base_uri": "https://localhost:8080/"
        },
        "id": "C3KJ82eXyJ6W",
        "outputId": "ab7d5e95-a983-40e9-8f0c-e71a489cebf3"
      },
      "source": [
        "initial = 2.37\r\n",
        "changed = 3.38\r\n",
        "(changed/initial) - 1"
      ],
      "execution_count": 12,
      "outputs": [
        {
          "output_type": "execute_result",
          "data": {
            "text/plain": [
              "0.4261603375527425"
            ]
          },
          "metadata": {
            "tags": []
          },
          "execution_count": 12
        }
      ]
    },
    {
      "cell_type": "code",
      "metadata": {
        "id": "ldJCaYEHyMdP"
      },
      "source": [
        "initial = 15.3\r\n",
        "changed = 11.9\r\n",
        "(changed/initial) - 1"
      ],
      "execution_count": null,
      "outputs": []
    },
    {
      "cell_type": "code",
      "metadata": {
        "colab": {
          "base_uri": "https://localhost:8080/"
        },
        "id": "yxoBr7pYyPUx",
        "outputId": "4583d957-367f-470a-9c58-ba6346f1001c"
      },
      "source": [
        "1.035 * 1.035 * 1.035 * 1.035 * 1.035 * 1.035 * 1.035 * 1.035 * 1.035 * 1.035 - 1"
      ],
      "execution_count": 13,
      "outputs": [
        {
          "output_type": "execute_result",
          "data": {
            "text/plain": [
              "0.410598760621121"
            ]
          },
          "metadata": {
            "tags": []
          },
          "execution_count": 13
        }
      ]
    },
    {
      "cell_type": "code",
      "metadata": {
        "colab": {
          "base_uri": "https://localhost:8080/"
        },
        "id": "6kojV5JdyQaT",
        "outputId": "c504053d-1964-4277-a145-5a2fe0cdc4b5"
      },
      "source": [
        "annual_growth_rate = 0.035\r\n",
        "ten_year_growth_rate = (1 + annual_growth_rate) ** 10 - 1\r\n",
        "ten_year_growth_rate"
      ],
      "execution_count": 14,
      "outputs": [
        {
          "output_type": "execute_result",
          "data": {
            "text/plain": [
              "0.410598760621121"
            ]
          },
          "metadata": {
            "tags": []
          },
          "execution_count": 14
        }
      ]
    },
    {
      "cell_type": "code",
      "metadata": {
        "colab": {
          "base_uri": "https://localhost:8080/"
        },
        "id": "I2ClbXrkySiU",
        "outputId": "5dace0f4-a729-46f6-a5bc-bc73a2b16240"
      },
      "source": [
        "initial = 2.37\r\n",
        "changed = 3.38\r\n",
        "t = 10\r\n",
        "(changed/initial) ** (1/t) - 1"
      ],
      "execution_count": 15,
      "outputs": [
        {
          "output_type": "execute_result",
          "data": {
            "text/plain": [
              "0.03613617208346853"
            ]
          },
          "metadata": {
            "tags": []
          },
          "execution_count": 15
        }
      ]
    },
    {
      "cell_type": "code",
      "metadata": {
        "colab": {
          "base_uri": "https://localhost:8080/"
        },
        "id": "3WIkWf6oyW5A",
        "outputId": "8b47bcac-9ed8-426c-cdac-caf608786d88"
      },
      "source": [
        "round(5 - 1.3)"
      ],
      "execution_count": 16,
      "outputs": [
        {
          "output_type": "execute_result",
          "data": {
            "text/plain": [
              "4"
            ]
          },
          "metadata": {
            "tags": []
          },
          "execution_count": 16
        }
      ]
    },
    {
      "cell_type": "code",
      "metadata": {
        "colab": {
          "base_uri": "https://localhost:8080/"
        },
        "id": "EAzB3HHyyYEl",
        "outputId": "0db7d7ab-bc67-4b00-9562-9efa649ab88f"
      },
      "source": [
        "abs(-12)"
      ],
      "execution_count": 17,
      "outputs": [
        {
          "output_type": "execute_result",
          "data": {
            "text/plain": [
              "12"
            ]
          },
          "metadata": {
            "tags": []
          },
          "execution_count": 17
        }
      ]
    },
    {
      "cell_type": "code",
      "metadata": {
        "colab": {
          "base_uri": "https://localhost:8080/"
        },
        "id": "uctdbj7Uyb35",
        "outputId": "b2ca975d-fc7b-43cc-d493-8590ee73e2f0"
      },
      "source": [
        "max(2, 2 + 3, 4)"
      ],
      "execution_count": 18,
      "outputs": [
        {
          "output_type": "execute_result",
          "data": {
            "text/plain": [
              "5"
            ]
          },
          "metadata": {
            "tags": []
          },
          "execution_count": 18
        }
      ]
    },
    {
      "cell_type": "code",
      "metadata": {
        "colab": {
          "base_uri": "https://localhost:8080/"
        },
        "id": "LbgJj7wryedZ",
        "outputId": "785b8870-dc9f-4b6e-e804-5ea30c02f248"
      },
      "source": [
        "(4 + 5) ** 0.5"
      ],
      "execution_count": 19,
      "outputs": [
        {
          "output_type": "execute_result",
          "data": {
            "text/plain": [
              "3.0"
            ]
          },
          "metadata": {
            "tags": []
          },
          "execution_count": 19
        }
      ]
    },
    {
      "cell_type": "code",
      "metadata": {
        "colab": {
          "base_uri": "https://localhost:8080/"
        },
        "id": "uHtlLbYByfef",
        "outputId": "2d767d12-d153-4991-c2c8-8c56fbe31829"
      },
      "source": [
        "florida = 2.72\r\n",
        "iowa = 16.25\r\n",
        "100*abs(florida-iowa)/((florida+iowa)/2)"
      ],
      "execution_count": 20,
      "outputs": [
        {
          "output_type": "execute_result",
          "data": {
            "text/plain": [
              "142.6462836056932"
            ]
          },
          "metadata": {
            "tags": []
          },
          "execution_count": 20
        }
      ]
    },
    {
      "cell_type": "code",
      "metadata": {
        "colab": {
          "base_uri": "https://localhost:8080/"
        },
        "id": "up-wBNYuyiO0",
        "outputId": "fa95c596-3213-4f68-ce49-a0fb4adc36df"
      },
      "source": [
        "florida = 2.72\r\n",
        "iowa = 16.25\r\n",
        "100*abs(florida-iowa)/((florida+iowa)/2)"
      ],
      "execution_count": 21,
      "outputs": [
        {
          "output_type": "execute_result",
          "data": {
            "text/plain": [
              "142.6462836056932"
            ]
          },
          "metadata": {
            "tags": []
          },
          "execution_count": 21
        }
      ]
    },
    {
      "cell_type": "code",
      "metadata": {
        "colab": {
          "base_uri": "https://localhost:8080/",
          "height": 163
        },
        "id": "WJCFwdf4yoAX",
        "outputId": "ed59197e-7e76-46ba-b3c9-682fafc0bea7"
      },
      "source": [
        "math.log(16)/math.log(2)"
      ],
      "execution_count": 22,
      "outputs": [
        {
          "output_type": "error",
          "ename": "NameError",
          "evalue": "ignored",
          "traceback": [
            "\u001b[0;31m---------------------------------------------------------------------------\u001b[0m",
            "\u001b[0;31mNameError\u001b[0m                                 Traceback (most recent call last)",
            "\u001b[0;32m<ipython-input-22-31e52434af68>\u001b[0m in \u001b[0;36m<module>\u001b[0;34m()\u001b[0m\n\u001b[0;32m----> 1\u001b[0;31m \u001b[0mmath\u001b[0m\u001b[0;34m.\u001b[0m\u001b[0mlog\u001b[0m\u001b[0;34m(\u001b[0m\u001b[0;36m16\u001b[0m\u001b[0;34m)\u001b[0m\u001b[0;34m/\u001b[0m\u001b[0mmath\u001b[0m\u001b[0;34m.\u001b[0m\u001b[0mlog\u001b[0m\u001b[0;34m(\u001b[0m\u001b[0;36m2\u001b[0m\u001b[0;34m)\u001b[0m\u001b[0;34m\u001b[0m\u001b[0;34m\u001b[0m\u001b[0m\n\u001b[0m",
            "\u001b[0;31mNameError\u001b[0m: name 'math' is not defined"
          ]
        }
      ]
    },
    {
      "cell_type": "code",
      "metadata": {
        "colab": {
          "base_uri": "https://localhost:8080/"
        },
        "id": "kfWYHeewyrCo",
        "outputId": "063b4cb0-ea29-4a86-ab9f-4a6d8bdea0b0"
      },
      "source": [
        "florida = 2.72\r\n",
        "iowa = 16.25\r\n",
        "100*abs(florida-iowa)/((florida+iowa)/2)"
      ],
      "execution_count": 23,
      "outputs": [
        {
          "output_type": "execute_result",
          "data": {
            "text/plain": [
              "142.6462836056932"
            ]
          },
          "metadata": {
            "tags": []
          },
          "execution_count": 23
        }
      ]
    },
    {
      "cell_type": "code",
      "metadata": {
        "colab": {
          "base_uri": "https://localhost:8080/"
        },
        "id": "O4YXaBYKy4NE",
        "outputId": "c5a94e46-9802-4bf7-ad5c-30b9ee222df2"
      },
      "source": [
        "(4 + 5) ** 0.5"
      ],
      "execution_count": 24,
      "outputs": [
        {
          "output_type": "execute_result",
          "data": {
            "text/plain": [
              "3.0"
            ]
          },
          "metadata": {
            "tags": []
          },
          "execution_count": 24
        }
      ]
    }
  ]
}